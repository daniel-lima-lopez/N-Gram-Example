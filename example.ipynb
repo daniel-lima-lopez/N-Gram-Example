{
 "cells": [
  {
   "cell_type": "markdown",
   "metadata": {},
   "source": [
    "# Example of BiGram next-word prediction\n",
    "This notebook presents an example of the application of a BiGram, built with information from the dialogues in Shakespeare's works."
   ]
  },
  {
   "cell_type": "code",
   "execution_count": 1,
   "metadata": {},
   "outputs": [],
   "source": [
    "from BiGram import BiGram"
   ]
  },
  {
   "cell_type": "markdown",
   "metadata": {},
   "source": [
    "When instantiating the Bigram, the parameters `k` and `add` are controlled. `k` scales the count of bigrams in the corpus, while `add` adds a constant to the overall count, smoothing out probabilities and allowing the occurrence of bigrams that do not exist in the corpus:"
   ]
  },
  {
   "cell_type": "code",
   "execution_count": 2,
   "metadata": {},
   "outputs": [
    {
     "data": {
      "text/plain": [
       "array([[1, 1, 1, ..., 1, 1, 1],\n",
       "       [1, 1, 1, ..., 1, 1, 1],\n",
       "       [1, 1, 1, ..., 1, 1, 1],\n",
       "       ...,\n",
       "       [1, 1, 1, ..., 1, 1, 1],\n",
       "       [1, 1, 1, ..., 1, 1, 1],\n",
       "       [1, 1, 1, ..., 1, 1, 1]])"
      ]
     },
     "execution_count": 2,
     "metadata": {},
     "output_type": "execute_result"
    }
   ],
   "source": [
    "test = BiGram(k=5, add=1)\n",
    "test.Cmatrix"
   ]
  },
  {
   "cell_type": "markdown",
   "metadata": {},
   "source": [
    "We can use the `next_word()` function to predict the next most likely word given a previous word. Below are random sentences generated with the Bigram, starting from a random word and generating the next word with the model on repeated occasions:"
   ]
  },
  {
   "cell_type": "code",
   "execution_count": 3,
   "metadata": {},
   "outputs": [
    {
     "name": "stdout",
     "output_type": "stream",
     "text": [
      "the grace insurrection module countenances\n",
      "and for they prescriptions deiphobus\n",
      "attend lettersdamnd eyases censureo smarting\n",
      "humbling witch lade scions dearbeloved\n",
      "incarnal cricket tellus exchequers overview\n",
      "visit stubble each heros nursery\n",
      "boarish lucentio luna godfather dire\n",
      "you begin offend glorious sundaycitizens\n",
      "come infixing dareful cuckooflowers minded\n",
      "and shrilltongued everpardon blue uttering\n"
     ]
    }
   ],
   "source": [
    "for i in range(10):\n",
    "    ws = ['s1']\n",
    "    for i in range(5):\n",
    "        nw = test.next_word(ws[-1])\n",
    "        if nw == 'e1':\n",
    "            break\n",
    "        else:\n",
    "            ws.append(nw)\n",
    "    print(*ws[1:])"
   ]
  }
 ],
 "metadata": {
  "kernelspec": {
   "display_name": "tfGPU",
   "language": "python",
   "name": "python3"
  },
  "language_info": {
   "codemirror_mode": {
    "name": "ipython",
    "version": 3
   },
   "file_extension": ".py",
   "mimetype": "text/x-python",
   "name": "python",
   "nbconvert_exporter": "python",
   "pygments_lexer": "ipython3",
   "version": "3.9.19"
  }
 },
 "nbformat": 4,
 "nbformat_minor": 2
}
